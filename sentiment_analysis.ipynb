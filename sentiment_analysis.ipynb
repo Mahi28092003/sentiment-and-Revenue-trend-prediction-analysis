{
 "cells": [
  {
   "cell_type": "code",
   "execution_count": 11,
   "id": "6ce3a0c0-95d2-4e87-baef-b1149e62e85b",
   "metadata": {},
   "outputs": [],
   "source": [
    "import pandas as pd\n",
    "import matplotlib.pyplot as plt\n",
    "import seaborn as sns\n",
    "from textblob import TextBlob"
   ]
  },
  {
   "cell_type": "code",
   "execution_count": 2,
   "id": "f292bad8-ce2b-42ac-96cb-700f8a1dbe4e",
   "metadata": {},
   "outputs": [],
   "source": [
    "df = pd.read_excel(\"C:/Users/sharm/Downloads/agile_capital_sentiment_data.xlsx\")"
   ]
  },
  {
   "cell_type": "code",
   "execution_count": 3,
   "id": "c756e809-89f0-412c-98ad-63683122170e",
   "metadata": {},
   "outputs": [
    {
     "data": {
      "text/html": [
       "<div>\n",
       "<style scoped>\n",
       "    .dataframe tbody tr th:only-of-type {\n",
       "        vertical-align: middle;\n",
       "    }\n",
       "\n",
       "    .dataframe tbody tr th {\n",
       "        vertical-align: top;\n",
       "    }\n",
       "\n",
       "    .dataframe thead th {\n",
       "        text-align: right;\n",
       "    }\n",
       "</style>\n",
       "<table border=\"1\" class=\"dataframe\">\n",
       "  <thead>\n",
       "    <tr style=\"text-align: right;\">\n",
       "      <th></th>\n",
       "      <th>Review</th>\n",
       "      <th>Polarity</th>\n",
       "      <th>Predicted_Sentiment</th>\n",
       "    </tr>\n",
       "  </thead>\n",
       "  <tbody>\n",
       "    <tr>\n",
       "      <th>0</th>\n",
       "      <td>Good returns on my investments this quarter.</td>\n",
       "      <td>0.700000</td>\n",
       "      <td>Positive</td>\n",
       "    </tr>\n",
       "    <tr>\n",
       "      <th>1</th>\n",
       "      <td>I'm happy with the transparency and advice.</td>\n",
       "      <td>0.800000</td>\n",
       "      <td>Positive</td>\n",
       "    </tr>\n",
       "    <tr>\n",
       "      <th>2</th>\n",
       "      <td>I feel the reports lacked depth and clarity.</td>\n",
       "      <td>0.000000</td>\n",
       "      <td>Neutral</td>\n",
       "    </tr>\n",
       "    <tr>\n",
       "      <th>3</th>\n",
       "      <td>Customer support was quick and efficient.</td>\n",
       "      <td>0.333333</td>\n",
       "      <td>Positive</td>\n",
       "    </tr>\n",
       "    <tr>\n",
       "      <th>4</th>\n",
       "      <td>I'm happy with the transparency and advice.</td>\n",
       "      <td>0.800000</td>\n",
       "      <td>Positive</td>\n",
       "    </tr>\n",
       "    <tr>\n",
       "      <th>...</th>\n",
       "      <td>...</td>\n",
       "      <td>...</td>\n",
       "      <td>...</td>\n",
       "    </tr>\n",
       "    <tr>\n",
       "      <th>195</th>\n",
       "      <td>Great campaign, very informative content.</td>\n",
       "      <td>0.500000</td>\n",
       "      <td>Positive</td>\n",
       "    </tr>\n",
       "    <tr>\n",
       "      <th>196</th>\n",
       "      <td>The investment advice was excellent and very h...</td>\n",
       "      <td>0.600000</td>\n",
       "      <td>Positive</td>\n",
       "    </tr>\n",
       "    <tr>\n",
       "      <th>197</th>\n",
       "      <td>The campaign information was standard.</td>\n",
       "      <td>0.000000</td>\n",
       "      <td>Neutral</td>\n",
       "    </tr>\n",
       "    <tr>\n",
       "      <th>198</th>\n",
       "      <td>Good returns on my investments this quarter.</td>\n",
       "      <td>0.700000</td>\n",
       "      <td>Positive</td>\n",
       "    </tr>\n",
       "    <tr>\n",
       "      <th>199</th>\n",
       "      <td>The reports are clear and easy to understand.</td>\n",
       "      <td>0.266667</td>\n",
       "      <td>Positive</td>\n",
       "    </tr>\n",
       "  </tbody>\n",
       "</table>\n",
       "<p>200 rows × 3 columns</p>\n",
       "</div>"
      ],
      "text/plain": [
       "                                                Review  Polarity  \\\n",
       "0         Good returns on my investments this quarter.  0.700000   \n",
       "1          I'm happy with the transparency and advice.  0.800000   \n",
       "2         I feel the reports lacked depth and clarity.  0.000000   \n",
       "3            Customer support was quick and efficient.  0.333333   \n",
       "4          I'm happy with the transparency and advice.  0.800000   \n",
       "..                                                 ...       ...   \n",
       "195          Great campaign, very informative content.  0.500000   \n",
       "196  The investment advice was excellent and very h...  0.600000   \n",
       "197             The campaign information was standard.  0.000000   \n",
       "198       Good returns on my investments this quarter.  0.700000   \n",
       "199      The reports are clear and easy to understand.  0.266667   \n",
       "\n",
       "    Predicted_Sentiment  \n",
       "0              Positive  \n",
       "1              Positive  \n",
       "2               Neutral  \n",
       "3              Positive  \n",
       "4              Positive  \n",
       "..                  ...  \n",
       "195            Positive  \n",
       "196            Positive  \n",
       "197             Neutral  \n",
       "198            Positive  \n",
       "199            Positive  \n",
       "\n",
       "[200 rows x 3 columns]"
      ]
     },
     "execution_count": 3,
     "metadata": {},
     "output_type": "execute_result"
    }
   ],
   "source": [
    "df"
   ]
  },
  {
   "cell_type": "code",
   "execution_count": 12,
   "id": "360842b2-acce-41de-8a95-8fa7bb896b80",
   "metadata": {},
   "outputs": [
    {
     "name": "stdout",
     "output_type": "stream",
     "text": [
      "(200, 4)\n",
      "Index(['Review', 'Polarity', 'Predicted_Sentiment', 'Sentiment'], dtype='object')\n"
     ]
    },
    {
     "data": {
      "text/html": [
       "<div>\n",
       "<style scoped>\n",
       "    .dataframe tbody tr th:only-of-type {\n",
       "        vertical-align: middle;\n",
       "    }\n",
       "\n",
       "    .dataframe tbody tr th {\n",
       "        vertical-align: top;\n",
       "    }\n",
       "\n",
       "    .dataframe thead th {\n",
       "        text-align: right;\n",
       "    }\n",
       "</style>\n",
       "<table border=\"1\" class=\"dataframe\">\n",
       "  <thead>\n",
       "    <tr style=\"text-align: right;\">\n",
       "      <th></th>\n",
       "      <th>Review</th>\n",
       "      <th>Polarity</th>\n",
       "      <th>Predicted_Sentiment</th>\n",
       "      <th>Sentiment</th>\n",
       "    </tr>\n",
       "  </thead>\n",
       "  <tbody>\n",
       "    <tr>\n",
       "      <th>0</th>\n",
       "      <td>Good returns on my investments this quarter.</td>\n",
       "      <td>0.700000</td>\n",
       "      <td>Positive</td>\n",
       "      <td>Positive</td>\n",
       "    </tr>\n",
       "    <tr>\n",
       "      <th>1</th>\n",
       "      <td>I'm happy with the transparency and advice.</td>\n",
       "      <td>0.800000</td>\n",
       "      <td>Positive</td>\n",
       "      <td>Positive</td>\n",
       "    </tr>\n",
       "    <tr>\n",
       "      <th>2</th>\n",
       "      <td>I feel the reports lacked depth and clarity.</td>\n",
       "      <td>0.000000</td>\n",
       "      <td>Neutral</td>\n",
       "      <td>Negative</td>\n",
       "    </tr>\n",
       "    <tr>\n",
       "      <th>3</th>\n",
       "      <td>Customer support was quick and efficient.</td>\n",
       "      <td>0.333333</td>\n",
       "      <td>Positive</td>\n",
       "      <td>Positive</td>\n",
       "    </tr>\n",
       "    <tr>\n",
       "      <th>4</th>\n",
       "      <td>I'm happy with the transparency and advice.</td>\n",
       "      <td>0.800000</td>\n",
       "      <td>Positive</td>\n",
       "      <td>Positive</td>\n",
       "    </tr>\n",
       "  </tbody>\n",
       "</table>\n",
       "</div>"
      ],
      "text/plain": [
       "                                         Review  Polarity Predicted_Sentiment  \\\n",
       "0  Good returns on my investments this quarter.  0.700000            Positive   \n",
       "1   I'm happy with the transparency and advice.  0.800000            Positive   \n",
       "2  I feel the reports lacked depth and clarity.  0.000000             Neutral   \n",
       "3     Customer support was quick and efficient.  0.333333            Positive   \n",
       "4   I'm happy with the transparency and advice.  0.800000            Positive   \n",
       "\n",
       "  Sentiment  \n",
       "0  Positive  \n",
       "1  Positive  \n",
       "2  Negative  \n",
       "3  Positive  \n",
       "4  Positive  "
      ]
     },
     "execution_count": 12,
     "metadata": {},
     "output_type": "execute_result"
    }
   ],
   "source": [
    "print(df.shape)\n",
    "print(df.columns)\n",
    "df.head()"
   ]
  },
  {
   "cell_type": "code",
   "execution_count": 13,
   "id": "f67b6e54-80c8-436a-9d51-41af79d58cb8",
   "metadata": {},
   "outputs": [],
   "source": [
    "df.isnull().sum()\n",
    "df.dropna(subset=['Review'], inplace=True)"
   ]
  },
  {
   "cell_type": "code",
   "execution_count": 14,
   "id": "dc12087b-6bb6-495e-a617-e6664c7af8ad",
   "metadata": {},
   "outputs": [],
   "source": [
    "df['Review'] = df['Review'].astype(str)"
   ]
  },
  {
   "cell_type": "code",
   "execution_count": 15,
   "id": "5ab18f2e-2f9c-45d1-8b90-cccce4d7d113",
   "metadata": {},
   "outputs": [
    {
     "data": {
      "text/html": [
       "<div>\n",
       "<style scoped>\n",
       "    .dataframe tbody tr th:only-of-type {\n",
       "        vertical-align: middle;\n",
       "    }\n",
       "\n",
       "    .dataframe tbody tr th {\n",
       "        vertical-align: top;\n",
       "    }\n",
       "\n",
       "    .dataframe thead th {\n",
       "        text-align: right;\n",
       "    }\n",
       "</style>\n",
       "<table border=\"1\" class=\"dataframe\">\n",
       "  <thead>\n",
       "    <tr style=\"text-align: right;\">\n",
       "      <th></th>\n",
       "      <th>Review</th>\n",
       "      <th>Polarity</th>\n",
       "      <th>Predicted_Sentiment</th>\n",
       "      <th>Sentiment</th>\n",
       "    </tr>\n",
       "  </thead>\n",
       "  <tbody>\n",
       "    <tr>\n",
       "      <th>0</th>\n",
       "      <td>Good returns on my investments this quarter.</td>\n",
       "      <td>0.700000</td>\n",
       "      <td>Positive</td>\n",
       "      <td>Positive</td>\n",
       "    </tr>\n",
       "    <tr>\n",
       "      <th>1</th>\n",
       "      <td>I'm happy with the transparency and advice.</td>\n",
       "      <td>0.800000</td>\n",
       "      <td>Positive</td>\n",
       "      <td>Positive</td>\n",
       "    </tr>\n",
       "    <tr>\n",
       "      <th>2</th>\n",
       "      <td>I feel the reports lacked depth and clarity.</td>\n",
       "      <td>0.000000</td>\n",
       "      <td>Neutral</td>\n",
       "      <td>Negative</td>\n",
       "    </tr>\n",
       "    <tr>\n",
       "      <th>3</th>\n",
       "      <td>Customer support was quick and efficient.</td>\n",
       "      <td>0.333333</td>\n",
       "      <td>Positive</td>\n",
       "      <td>Positive</td>\n",
       "    </tr>\n",
       "    <tr>\n",
       "      <th>4</th>\n",
       "      <td>I'm happy with the transparency and advice.</td>\n",
       "      <td>0.800000</td>\n",
       "      <td>Positive</td>\n",
       "      <td>Positive</td>\n",
       "    </tr>\n",
       "    <tr>\n",
       "      <th>...</th>\n",
       "      <td>...</td>\n",
       "      <td>...</td>\n",
       "      <td>...</td>\n",
       "      <td>...</td>\n",
       "    </tr>\n",
       "    <tr>\n",
       "      <th>195</th>\n",
       "      <td>Great campaign, very informative content.</td>\n",
       "      <td>0.500000</td>\n",
       "      <td>Positive</td>\n",
       "      <td>Positive</td>\n",
       "    </tr>\n",
       "    <tr>\n",
       "      <th>196</th>\n",
       "      <td>The investment advice was excellent and very h...</td>\n",
       "      <td>0.600000</td>\n",
       "      <td>Positive</td>\n",
       "      <td>Positive</td>\n",
       "    </tr>\n",
       "    <tr>\n",
       "      <th>197</th>\n",
       "      <td>The campaign information was standard.</td>\n",
       "      <td>0.000000</td>\n",
       "      <td>Neutral</td>\n",
       "      <td>Negative</td>\n",
       "    </tr>\n",
       "    <tr>\n",
       "      <th>198</th>\n",
       "      <td>Good returns on my investments this quarter.</td>\n",
       "      <td>0.700000</td>\n",
       "      <td>Positive</td>\n",
       "      <td>Positive</td>\n",
       "    </tr>\n",
       "    <tr>\n",
       "      <th>199</th>\n",
       "      <td>The reports are clear and easy to understand.</td>\n",
       "      <td>0.266667</td>\n",
       "      <td>Positive</td>\n",
       "      <td>Positive</td>\n",
       "    </tr>\n",
       "  </tbody>\n",
       "</table>\n",
       "<p>200 rows × 4 columns</p>\n",
       "</div>"
      ],
      "text/plain": [
       "                                                Review  Polarity  \\\n",
       "0         Good returns on my investments this quarter.  0.700000   \n",
       "1          I'm happy with the transparency and advice.  0.800000   \n",
       "2         I feel the reports lacked depth and clarity.  0.000000   \n",
       "3            Customer support was quick and efficient.  0.333333   \n",
       "4          I'm happy with the transparency and advice.  0.800000   \n",
       "..                                                 ...       ...   \n",
       "195          Great campaign, very informative content.  0.500000   \n",
       "196  The investment advice was excellent and very h...  0.600000   \n",
       "197             The campaign information was standard.  0.000000   \n",
       "198       Good returns on my investments this quarter.  0.700000   \n",
       "199      The reports are clear and easy to understand.  0.266667   \n",
       "\n",
       "    Predicted_Sentiment Sentiment  \n",
       "0              Positive  Positive  \n",
       "1              Positive  Positive  \n",
       "2               Neutral  Negative  \n",
       "3              Positive  Positive  \n",
       "4              Positive  Positive  \n",
       "..                  ...       ...  \n",
       "195            Positive  Positive  \n",
       "196            Positive  Positive  \n",
       "197             Neutral  Negative  \n",
       "198            Positive  Positive  \n",
       "199            Positive  Positive  \n",
       "\n",
       "[200 rows x 4 columns]"
      ]
     },
     "execution_count": 15,
     "metadata": {},
     "output_type": "execute_result"
    }
   ],
   "source": [
    "df"
   ]
  },
  {
   "cell_type": "code",
   "execution_count": 16,
   "id": "e644729a-e304-45fe-ab98-b5b6a8657856",
   "metadata": {},
   "outputs": [],
   "source": [
    "#for polarity and subjectivity\n",
    "df['TB_Polarity'] = df['Review'].apply(lambda x: TextBlob(x).sentiment.polarity)\n",
    "df['TB_Subjectivity'] = df['Review'].apply(lambda x: TextBlob(x).sentiment.subjectivity)"
   ]
  },
  {
   "cell_type": "code",
   "execution_count": 17,
   "id": "918e8a3c-4316-45ff-b3b6-253ff9dfbbd4",
   "metadata": {},
   "outputs": [
    {
     "data": {
      "image/png": "[encoded data removed]",
      "text/plain": [
       "<Figure size 640x480 with 1 Axes>"
      ]
     },
     "metadata": {},
     "output_type": "display_data"
    }
   ],
   "source": [
    "#EXPLORATORY DATA ANALYTICS \n",
    "#histogram\n",
    "sns.histplot(df['TB_Polarity'], bins=30, kde=True)\n",
    "plt.title(\"Polarity Distribution\")\n",
    "plt.show()"
   ]
  },
  {
   "cell_type": "code",
   "execution_count": 18,
   "id": "5c2985e3-8d8c-485c-a95a-2a49da76e658",
   "metadata": {},
   "outputs": [
    {
     "data": {
      "image/png": "[encoded data removed]",
      "text/plain": [
       "<Figure size 640x480 with 1 Axes>"
      ]
     },
     "metadata": {},
     "output_type": "display_data"
    }
   ],
   "source": [
    "#countplot\n",
    "df['TB_Sentiment'] = df['TB_Polarity'].apply(lambda x: 'Positive' if x>0 \n",
    "                                             else ('Negative' if x<0 else 'Neutral'))\n",
    "sns.countplot(x='TB_Sentiment', data=df)\n",
    "plt.title(\"Sentiment Counts\")\n",
    "plt.show()"
   ]
  },
  {
   "cell_type": "code",
   "execution_count": 20,
   "id": "0b3f920d-732c-4f8c-b817-e18cbd8f93ed",
   "metadata": {},
   "outputs": [
    {
     "name": "stdout",
     "output_type": "stream",
     "text": [
      "              precision    recall  f1-score   support\n",
      "\n",
      "    Negative       0.71      1.00      0.83        22\n",
      "     Neutral       1.00      0.64      0.78        72\n",
      "    Positive       0.86      1.00      0.93       106\n",
      "\n",
      "    accuracy                           0.87       200\n",
      "   macro avg       0.86      0.88      0.85       200\n",
      "weighted avg       0.89      0.87      0.86       200\n",
      "\n"
     ]
    },
    {
     "data": {
      "image/png": "[encoded data removed]",
      "text/plain": [
       "<Figure size 640x480 with 2 Axes>"
      ]
     },
     "metadata": {},
     "output_type": "display_data"
    }
   ],
   "source": [
    "#heatmap of predicted_sentiments\n",
    "from sklearn.metrics import classification_report, confusion_matrix\n",
    "\n",
    "print(classification_report(df['Predicted_Sentiment'], df['TB_Sentiment']))\n",
    "sns.heatmap(confusion_matrix(df['Predicted_Sentiment'], df['TB_Sentiment']), annot=True, fmt=\"d\")\n",
    "plt.show()"
   ]
  },
  {
   "cell_type": "code",
   "execution_count": 21,
   "id": "66c139cc-dab1-4095-ada8-c4087aa23e88",
   "metadata": {},
   "outputs": [
    {
     "name": "stdout",
     "output_type": "stream",
     "text": [
      "Accuracy: 1.0\n"
     ]
    }
   ],
   "source": [
    "#machine learning model for accuracy:\n",
    "from sklearn.feature_extraction.text import TfidfVectorizer\n",
    "from sklearn.model_selection import train_test_split\n",
    "from sklearn.linear_model import LogisticRegression\n",
    "\n",
    "X = df['Review']\n",
    "y = df['Predicted_Sentiment']\n",
    "\n",
    "vectorizer = TfidfVectorizer(max_features=5000)\n",
    "X_vec = vectorizer.fit_transform(X)\n",
    "\n",
    "X_train, X_test, y_train, y_test = train_test_split(X_vec, y, test_size=0.2, random_state=42)\n",
    "\n",
    "model = LogisticRegression(max_iter=200)\n",
    "model.fit(X_train, y_train)\n",
    "\n",
    "print(\"Accuracy:\", model.score(X_test, y_test))\n"
   ]
  },
  {
   "cell_type": "code",
   "execution_count": null,
   "id": "d4ef78ec-3169-497e-85b3-5b6bba91a9f8",
   "metadata": {},
   "outputs": [],
   "source": []
  }
 ],
 "metadata": {
  "kernelspec": {
   "display_name": "Python 3 (ipykernel)",
   "language": "python",
   "name": "python3"
  },
  "language_info": {
   "codemirror_mode": {
    "name": "ipython",
    "version": 3
   },
   "file_extension": ".py",
   "mimetype": "text/x-python",
   "name": "python",
   "nbconvert_exporter": "python",
   "pygments_lexer": "ipython3",
   "version": "3.13.7"
  }
 },
 "nbformat": 4,
 "nbformat_minor": 5
}
